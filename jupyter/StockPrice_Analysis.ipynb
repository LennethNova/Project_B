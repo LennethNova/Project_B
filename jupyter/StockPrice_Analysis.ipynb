{
 "cells": [
  {
   "cell_type": "code",
   "execution_count": 2,
   "id": "c8693219",
   "metadata": {},
   "outputs": [],
   "source": [
    "# Import dependencies\n",
    "import pandas as pd\n",
    "import numpy as np\n",
    "import os\n",
    "\n",
    "from datetime import datetime\n",
    "\n",
    "# Multiple paths\n",
    "import glob\n",
    "\n",
    "# SQL Alquemy\n",
    "from sqlalchemy import create_engine\n",
    "import psycopg2\n",
    "\n",
    "#Postgresql\n",
    "from config import db_password\n",
    "\n",
    "# Statistics\n",
    "import matplotlib.pyplot as plt\n",
    "import statistics\n",
    "\n",
    "# More\n",
    "from sklearn.model_selection import train_test_split\n",
    "from sklearn.preprocessing import StandardScaler,OneHotEncoder, MinMaxScaler\n",
    "import tensorflow as tf\n",
    "import hvplot.pandas\n",
    "\n",
    "import plotly.express as px\n",
    "from sklearn.decomposition import PCA\n",
    "from sklearn.cluster import KMeans\n",
    "\n",
    "# Python warnings\n",
    "import warnings\n",
    "warnings.filterwarnings(\"ignore\")"
   ]
  },
  {
   "cell_type": "markdown",
   "id": "b46c6cf4",
   "metadata": {},
   "source": [
    "## Database creation and connection\n",
    "\n",
    "### Reference:\n",
    "Import multiple csv files into pandas and concatenate into one DataFrame. (2014, January 3). Stack Overflow. https://stackoverflow.com/questions/20906474/import-multiple-csv-files-into-pandas-and-concatenate-into-one-dataframe\n",
    "\n",
    "This will allow to get all csv and convine them into one dataframe.\n",
    "\n",
    "It is important to note that the files have to be in the path that is used, so... in order to use this code just modify the path and select the one containing the \".csv\" files."
   ]
  },
  {
   "cell_type": "code",
   "execution_count": null,
   "id": "495c9be3",
   "metadata": {},
   "outputs": [],
   "source": [
    "# To unite all data\n",
    "# Use your own path where the info is\n",
    "path = r'D:\\Lari stuff\\Data Analytics\\Module 20\\Resources'\n",
    "\n",
    "stock_df = pd.concat([pd.read_csv(f'{path}/{f}') for f in os.listdir(path) if f.endswith('.csv')])"
   ]
  }
 ],
 "metadata": {
  "kernelspec": {
   "display_name": "Python 3",
   "language": "python",
   "name": "python3"
  },
  "language_info": {
   "codemirror_mode": {
    "name": "ipython",
    "version": 3
   },
   "file_extension": ".py",
   "mimetype": "text/x-python",
   "name": "python",
   "nbconvert_exporter": "python",
   "pygments_lexer": "ipython3",
   "version": "3.8.8"
  }
 },
 "nbformat": 4,
 "nbformat_minor": 5
}
